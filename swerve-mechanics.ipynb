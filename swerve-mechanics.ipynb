{
 "cells": [
  {
   "cell_type": "code",
   "execution_count": 1,
   "metadata": {},
   "outputs": [],
   "source": [
    "# imports\n",
    "import matplotlib.pyplot as plt\n",
    "import math\n",
    "import numpy as np\n",
    "import pandas as pd\n",
    "\n",
    "from robot_functions import *\n",
    "from crate_rover_specs import *"
   ]
  },
  {
   "cell_type": "markdown",
   "metadata": {},
   "source": [
    "## Drive system"
   ]
  },
  {
   "cell_type": "code",
   "execution_count": null,
   "metadata": {},
   "outputs": [],
   "source": [
    "# What are the deflections allowed in the drive system\n",
    "# \n",
    "# What are the results of deflection\n",
    "# - Potential odometer inaccuracy -> depending on where we measure\n",
    "# - Position accuracy -> Linked to odometer accuracy"
   ]
  },
  {
   "cell_type": "code",
   "execution_count": 3,
   "metadata": {},
   "outputs": [
    {
     "name": "stdout",
     "output_type": "stream",
     "text": [
      "Motor to bevel gear - shaft: 0.01. Maximum deflection: 0.7430220133771436\n",
      "Bevel gear to differential - shaft: 0.014. Maximum deflection: 0.7736589060570009\n",
      "Differential to wheel - shaft: 0.02. Maximum deflection: 0.7430220133771436\n"
     ]
    }
   ],
   "source": [
    "material = materials[0] # Stainless steel\n",
    "\n",
    "# Aiming for a total reduction of 16 with 2 gear sets\n",
    "gear_ratio_per_gear = 4.0\n",
    "number_of_gears = 2\n",
    "\n",
    "# The required torque at the wheel\n",
    "torque_at_wheel = 16.5\n",
    "\n",
    "# There are 3 shafts in the current design\n",
    "#\n",
    "# 1) Motor to bevel gear\n",
    "# 2) Bevel gear to differential\n",
    "# 3) Differential to wheel\n",
    "#\n",
    "# Each of these handle different amounts of torque\n",
    "\n",
    "# 1) Motor to bevel gear - Shaft dimensions\n",
    "torque_at_motor = torque_at_wheel / math.pow(gear_ratio_per_gear, number_of_gears)\n",
    "diameter = find_solid_shaft_diameter_for_torque(torque_at_motor, 1.0, material.yield_strength, material.shear_modulus)\n",
    "deflection = torsional_deflection_in_degrees_of_shaft(diameter / 2.0, 0.0, 1.0, material.shear_modulus, torque_at_motor)\n",
    "print(f'Motor to bevel gear - shaft: {diameter}. Maximum deflection: {deflection}')\n",
    "\n",
    "# 2) Bevel gear to differential\n",
    "torque_at_bevel_gear = torque_at_wheel / math.pow(gear_ratio_per_gear, number_of_gears - 1)\n",
    "diameter = find_solid_shaft_diameter_for_torque(torque_at_bevel_gear, 1.0, material.yield_strength, material.shear_modulus)\n",
    "deflection = torsional_deflection_in_degrees_of_shaft(diameter / 2.0, 0.0, 1.0, material.shear_modulus, torque_at_bevel_gear)\n",
    "print(f'Bevel gear to differential - shaft: {diameter}. Maximum deflection: {deflection}')\n",
    "\n",
    "# 3) Differential to wheel\n",
    "diameter = find_solid_shaft_diameter_for_torque(torque_at_wheel, 1.0, material.yield_strength, material.shear_modulus)\n",
    "deflection = torsional_deflection_in_degrees_of_shaft(diameter / 2.0, 0.0, 1.0, material.shear_modulus, torque_at_wheel)\n",
    "print(f'Differential to wheel - shaft: {diameter}. Maximum deflection: {deflection}')\n",
    "\n",
    "\n"
   ]
  },
  {
   "cell_type": "markdown",
   "metadata": {},
   "source": [
    "## Steering system"
   ]
  },
  {
   "cell_type": "code",
   "execution_count": null,
   "metadata": {},
   "outputs": [],
   "source": [
    "# What are the deflections allowed in the steering system\n",
    "# \n",
    "# What are the results of deflection\n",
    "# - Potential directional inaccuracy, depending on where we measure the position\n",
    "# - Both directions"
   ]
  },
  {
   "cell_type": "code",
   "execution_count": null,
   "metadata": {},
   "outputs": [],
   "source": [
    "torque_at_motor = 1.0\n",
    "torque_at_wheel = 19.3 * 1.25"
   ]
  }
 ],
 "metadata": {
  "interpreter": {
   "hash": "4c0583528a28de7c00fb075c693e6c7690a1bc65e8f11cfed514c005524cbd98"
  },
  "kernelspec": {
   "display_name": "Python 3.8.12 64-bit ('robostack': conda)",
   "name": "python3"
  },
  "language_info": {
   "codemirror_mode": {
    "name": "ipython",
    "version": 3
   },
   "file_extension": ".py",
   "mimetype": "text/x-python",
   "name": "python",
   "nbconvert_exporter": "python",
   "pygments_lexer": "ipython3",
   "version": "3.8.12"
  },
  "orig_nbformat": 4
 },
 "nbformat": 4,
 "nbformat_minor": 2
}
